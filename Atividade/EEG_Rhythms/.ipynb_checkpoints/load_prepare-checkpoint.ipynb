{
 "cells": [
  {
   "cell_type": "markdown",
   "id": "35002768",
   "metadata": {},
   "source": [
    "# Este arquivo realizará o carregamento e preparação de dados"
   ]
  },
  {
   "cell_type": "markdown",
   "id": "4e7742c5",
   "metadata": {},
   "source": [
    "**Importando bibliotecas**"
   ]
  },
  {
   "cell_type": "code",
   "execution_count": 1,
   "id": "a066c2c8",
   "metadata": {},
   "outputs": [],
   "source": [
    "import numpy as np\n",
    "import csv\n",
    "import re"
   ]
  },
  {
   "cell_type": "markdown",
   "id": "0754d588",
   "metadata": {},
   "source": [
    "** Fazendo o carregamento inicial **"
   ]
  },
  {
   "cell_type": "code",
   "execution_count": 14,
   "id": "fb486152",
   "metadata": {},
   "outputs": [
    {
     "name": "stdout",
     "output_type": "stream",
     "text": [
      "(175952, 8)\n"
     ]
    }
   ],
   "source": [
    "# Abertura do arquivo\n",
    "with open('datasets/OpenBCI_GUI-v5-meditation.txt') as arquivo:\n",
    "    linhas = arquivo.readlines()\n",
    "    \n",
    "data = list()\n",
    "\n",
    "# Percorrer linhas do arquivo\n",
    "for i, linha in enumerate(linhas):\n",
    "    \n",
    "    # Expressão regular para obter dados\n",
    "    res = re.search('^\\d{1,3},((\\ -?.+?,){8})', linha)\n",
    "    if res:\n",
    "        \n",
    "        # Obter primeiro grupo da expressão regular\n",
    "        cols = res.group(1)\n",
    "        data.append([float(d[1:]) for d in cols.split(',') if d])\n",
    "        \n",
    "data = np.array(data[1:])\n",
    "\n",
    "# Imprimir quantidade (shape) de dados\n",
    "print(data.shape)\n",
    "\n",
    "# Salva tabela em arquivo numpy\n",
    "np.save(\"datasets/OpenBCI_GUI-v5-meditation.npy\", data)"
   ]
  }
 ],
 "metadata": {
  "kernelspec": {
   "display_name": "Python 3 (ipykernel)",
   "language": "python",
   "name": "python3"
  },
  "language_info": {
   "codemirror_mode": {
    "name": "ipython",
    "version": 3
   },
   "file_extension": ".py",
   "mimetype": "text/x-python",
   "name": "python",
   "nbconvert_exporter": "python",
   "pygments_lexer": "ipython3",
   "version": "3.10.6"
  }
 },
 "nbformat": 4,
 "nbformat_minor": 5
}
